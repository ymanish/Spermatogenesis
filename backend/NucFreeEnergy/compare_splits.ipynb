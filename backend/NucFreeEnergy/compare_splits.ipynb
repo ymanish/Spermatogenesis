{
 "cells": [
  {
   "cell_type": "code",
   "execution_count": 1,
   "metadata": {},
   "outputs": [],
   "source": [
    "import sys, os, glob\n",
    "import numpy as np\n",
    "import scipy as sp\n",
    "from typing import List, Tuple, Callable, Any, Dict\n",
    "import matplotlib.pyplot as plt\n",
    "\n",
    "# from methods.PolyCG.polycg.SO3 import so3\n",
    "# from methods.read_nuc_data import read_nucleosome_triads, GenStiffness\n",
    "# from methods.free_energy import nucleosome_free_energy\n",
    "\n",
    "np.set_printoptions(linewidth=250,precision=5,suppress=True)"
   ]
  },
  {
   "cell_type": "markdown",
   "metadata": {},
   "source": [
    "### Methods"
   ]
  },
  {
   "cell_type": "code",
   "execution_count": 2,
   "metadata": {},
   "outputs": [],
   "source": [
    "def read_sequences(fn: str): \n",
    "    seqs = []\n",
    "    with open(fn, \"r\") as f:\n",
    "        for line in f.readlines():\n",
    "            if len(line.strip()) > 0:\n",
    "                seqs.append(line.strip())\n",
    "    return seqs\n",
    "\n",
    "def histogram(data,density=True):\n",
    "    bins = np.arange(np.min(data),np.max(data)+2)-0.5\n",
    "    hist, edges = np.histogram(data,bins=bins,density=density)\n",
    "    vals = 0.5*(edges[1:]+edges[:-1])\n",
    "    return np.array((vals,hist)).T\n",
    "\n",
    "def find_overlap(allseqs):\n",
    "    if len(allseqs) < 2:\n",
    "        return 0\n",
    "    # find overlap\n",
    "    noverlap = 0\n",
    "    for o in range(1,len(allseqs[0])):\n",
    "        match = True\n",
    "        for i in range(o):\n",
    "            if allseqs[0][-o+i] != allseqs[1][i]:\n",
    "                match = False\n",
    "                break\n",
    "        if match:\n",
    "            noverlap = o     \n",
    "    return noverlap\n",
    "\n",
    "def read_path_hist(path):\n",
    "    outs = sorted(glob.glob(path + '/*.npy'))\n",
    "    sums = np.zeros(np.load(outs[0]).shape)\n",
    "    for out in outs:\n",
    "        vals = np.load(out)\n",
    "        sums += vals\n",
    "    return vals\n",
    "\n",
    "def match_hists(hists,noverlap):\n",
    "    if len(hists) == 1:\n",
    "        return np.copy(hists[0])\n",
    "    hists = [np.copy(hist) for hist in hists]\n",
    "    ntot = len(hists[0]) + np.sum([len(hist)-noverlap for hist in hists[1:]])\n",
    "    thist = np.zeros(ntot)\n",
    "    thist[:len(hists[0])] = hists[0]\n",
    "    curr_last = len(hists[0])-noverlap\n",
    "    for i in range(1,len(hists)):\n",
    "        fac = np.sum(hists[i-1][-noverlap:])/np.sum(hists[i][:noverlap])\n",
    "        # fac = np.sum(hists[i-1][-noverlap:-2])/np.sum(hists[i][:noverlap-2])\n",
    "        # fac = 1\n",
    "        hists[i] *= fac\n",
    "        thist[curr_last:curr_last+len(hists[i])] = hists[i]\n",
    "        curr_last = curr_last+len(hists[i]) - noverlap\n",
    "        print(fac)\n",
    "    return thist\n",
    "        "
   ]
  },
  {
   "cell_type": "markdown",
   "metadata": {},
   "source": [
    "### Construct energy"
   ]
  },
  {
   "cell_type": "code",
   "execution_count": 3,
   "metadata": {},
   "outputs": [
    {
     "name": "stdout",
     "output_type": "stream",
     "text": [
      "2.242363729716544\n",
      "5.4494834773046765\n",
      "3.006826792370337\n",
      "5.655887558973095\n",
      "48.670637142540066\n",
      "171.2591806789535\n",
      "928.8775553745566\n",
      "175.2962688384236\n",
      "0.4691843685538553\n",
      "1.352151459722739\n",
      "5.154471401696183\n",
      "0.41281921395569454\n",
      "0.097400144332386\n",
      "0.026180921054959973\n",
      "0.0052912198516063035\n"
     ]
    }
   ],
   "source": [
    "mainname = 'Data/601_450/601_450'\n",
    "\n",
    "seqsfns = sorted(glob.glob(mainname+'_split*.seqs'))\n",
    "nums = sorted([int(fn.split('_split')[-1].split('.')[0].split('_')[0]) for fn in seqsfns])\n",
    "\n",
    "nums = nums[2:]\n",
    "\n",
    "# n = 1\n",
    "# nums = nums[n:n+1]\n",
    "\n",
    "allseqs = [read_sequences(mainname+f'_split{num}.seqs') for num in nums]\n",
    "noverlap = find_overlap(allseqs)\n",
    "\n",
    "# read all hists\n",
    "hists = []\n",
    "theories = []\n",
    "for num in nums:\n",
    "    path = mainname + f'_split{num}'\n",
    "    hist = read_path_hist(path)\n",
    "    \n",
    "    # rescale \n",
    "    tfe = np.load(path+'_fe.npy')[:,0]\n",
    "    tfes = tfe - np.max(tfe)\n",
    "    hist *= np.exp(-tfes)\n",
    "    \n",
    "    theories.append(tfe)\n",
    "    hists.append(hist)\n",
    "    \n",
    "     \n",
    "thist = match_hists(hists,noverlap)\n",
    "\n",
    "ttheo = np.zeros(thist.shape)\n",
    "cid = 0\n",
    "for theo in theories:\n",
    "    ttheo[cid:cid+len(theo)] = theo\n",
    "    cid += len(theo)-noverlap\n",
    "\n",
    "# print(thist)\n",
    "sampledfe = -np.log(thist/np.sum(thist))"
   ]
  },
  {
   "cell_type": "markdown",
   "metadata": {},
   "source": [
    "### Plot free energy"
   ]
  },
  {
   "cell_type": "code",
   "execution_count": 11,
   "metadata": {},
   "outputs": [
    {
     "data": {
      "image/png": "[encoded data removed]",
      "text/plain": [
       "<Figure size 243.78x141.732 with 1 Axes>"
      ]
     },
     "metadata": {
      "needs_background": "light"
     },
     "output_type": "display_data"
    }
   ],
   "source": [
    "# theory_fn = mainname + '_fe.npy'\n",
    "# theoryfe = np.load(theory_fn)\n",
    "# print(theoryfe.shape)\n",
    "\n",
    "savefn = 'Figs/' + os.path.basename(mainname)\n",
    "highlight_overlap = False\n",
    "\n",
    "\n",
    "fig = plt.figure(figsize=(8.6/2.54,5./2.54))\n",
    "ax1 = fig.add_subplot(111)\n",
    " \n",
    "\n",
    "sfeshift = sampledfe - np.mean(sampledfe)\n",
    "theoryshift = ttheo - np.mean(ttheo)\n",
    "\n",
    "# sfeshift = sampledfe - sampledfe[0]\n",
    "# theoryshift = ttheo - ttheo[0]\n",
    "\n",
    "\n",
    "Epos   = np.arange(len(sfeshift))\n",
    "ax1.plot(Epos,sfeshift,lw=1,color='blue',zorder=2,label='MC',alpha=0.7)\n",
    "\n",
    "ax1.plot(np.arange(len(theoryshift)),theoryshift,lw=1,color='black',zorder=2,label='Theory',alpha=0.7)\n",
    "\n",
    "if highlight_overlap:\n",
    "    for i in range(17):\n",
    "        lens = len(hists[0])\n",
    "        id = lens-noverlap + i*(lens)\n",
    "        print(id)\n",
    "        ax1.plot(Epos[id:id+noverlap],sfeshift[id:id+noverlap],lw=1,color='red',zorder=2)\n",
    "\n",
    "tick_pad            = 2\n",
    "axlinewidth         = 0.9\n",
    "axtick_major_width  = 0.6\n",
    "axtick_major_length = 1.6\n",
    "tick_labelsize      = 6\n",
    "label_fontsize      = 7\n",
    "\n",
    "ax1.legend(fontsize=6)\n",
    "\n",
    "ax1.set_xlabel('Sequence Index',size = label_fontsize,labelpad=1)\n",
    "ax1.set_ylabel(r'$\\beta E$',size = label_fontsize,labelpad=1)\n",
    "\n",
    "ax1.tick_params(axis=\"both\",which='major',direction=\"in\",width=axtick_major_width,length=axtick_major_length,labelsize=tick_labelsize,pad=tick_pad)\n",
    "\n",
    "for axis in ['top','bottom','left','right']:\n",
    "    ax1.spines[axis].set_linewidth(0.7)\n",
    "    \n",
    "plt.subplots_adjust(\n",
    "    left=0.09,\n",
    "    right=0.98,\n",
    "    bottom=0.12,\n",
    "    top=0.98,\n",
    "    wspace=0.2,\n",
    "    hspace=0.26)\n",
    "\n",
    "\n",
    "plt.savefig(savefn + '.png',dpi=300,facecolor='white')\n",
    "plt.show()"
   ]
  },
  {
   "cell_type": "markdown",
   "metadata": {},
   "source": [
    "### plot splits"
   ]
  },
  {
   "cell_type": "code",
   "execution_count": 5,
   "metadata": {},
   "outputs": [
    {
     "ename": "NameError",
     "evalue": "name 'rescaled_sampledfe' is not defined",
     "output_type": "error",
     "traceback": [
      "\u001b[0;31m---------------------------------------------------------------------------\u001b[0m",
      "\u001b[0;31mNameError\u001b[0m                                 Traceback (most recent call last)",
      "\u001b[0;32m/tmp/ipykernel_144792/140443339.py\u001b[0m in \u001b[0;36m<module>\u001b[0;34m\u001b[0m\n\u001b[1;32m     15\u001b[0m \u001b[0;34m\u001b[0m\u001b[0m\n\u001b[1;32m     16\u001b[0m \u001b[0;34m\u001b[0m\u001b[0m\n\u001b[0;32m---> 17\u001b[0;31m     \u001b[0msfeshift\u001b[0m \u001b[0;34m=\u001b[0m \u001b[0mrescaled_sampledfe\u001b[0m \u001b[0;34m-\u001b[0m \u001b[0mrescaled_sampledfe\u001b[0m\u001b[0;34m[\u001b[0m\u001b[0;36m0\u001b[0m\u001b[0;34m]\u001b[0m\u001b[0;34m\u001b[0m\u001b[0;34m\u001b[0m\u001b[0m\n\u001b[0m\u001b[1;32m     18\u001b[0m \u001b[0;34m\u001b[0m\u001b[0m\n\u001b[1;32m     19\u001b[0m     \u001b[0mEpos\u001b[0m   \u001b[0;34m=\u001b[0m \u001b[0mnp\u001b[0m\u001b[0;34m.\u001b[0m\u001b[0marange\u001b[0m\u001b[0;34m(\u001b[0m\u001b[0mlen\u001b[0m\u001b[0;34m(\u001b[0m\u001b[0msfeshift\u001b[0m\u001b[0;34m)\u001b[0m\u001b[0;34m)\u001b[0m\u001b[0;34m\u001b[0m\u001b[0;34m\u001b[0m\u001b[0m\n",
      "\u001b[0;31mNameError\u001b[0m: name 'rescaled_sampledfe' is not defined"
     ]
    },
    {
     "data": {
      "image/png": "[encoded data removed]",
      "text/plain": [
       "<Figure size 243.78x141.732 with 1 Axes>"
      ]
     },
     "metadata": {
      "needs_background": "light"
     },
     "output_type": "display_data"
    }
   ],
   "source": [
    "mainname = 'Data/601_450/601_450'\n",
    "seqsfns = sorted(glob.glob(mainname+'_split*.seqs'))\n",
    "\n",
    "for seqsfn in seqsfns:\n",
    "    basename = os.path.splitext(seqsfn)[0]\n",
    "    hist = read_path_hist(basename)\n",
    "    sfe = -np.log(thist/np.sum(thist))\n",
    "    tfe = np.load(basename+'_fe.npy')\n",
    "    \n",
    "    \n",
    "    savefn = 'Figs/' + basename\n",
    "\n",
    "    fig = plt.figure(figsize=(8.6/2.54,5./2.54))\n",
    "    ax1 = fig.add_subplot(111)\n",
    "    \n",
    "\n",
    "    sfeshift = rescaled_sampledfe - rescaled_sampledfe[0]\n",
    "\n",
    "    Epos   = np.arange(len(sfeshift))\n",
    "    ax1.plot(Epos,sfeshift,lw=1,color='blue',zorder=2)\n",
    "\n",
    "    theory = theoryfe[:,0]\n",
    "    theory = theoryfe[:len(sampledfe),0]\n",
    "\n",
    "    theoryshift = theory-theory[0]\n",
    "\n",
    "    ax1.plot(np.arange(len(theoryshift)),theoryshift,lw=1,color='black',zorder=2)\n",
    "\n",
    "\n",
    "\n",
    "    tick_pad            = 2\n",
    "    axlinewidth         = 0.9\n",
    "    axtick_major_width  = 0.6\n",
    "    axtick_major_length = 1.6\n",
    "    tick_labelsize      = 6\n",
    "    label_fontsize      = 7\n",
    "\n",
    "    ax1.set_xlabel('Nucleosome Position',size = label_fontsize,labelpad=1)\n",
    "    ax1.set_ylabel(r'$\\beta E$',size = label_fontsize,labelpad=1)\n",
    "\n",
    "    ax1.tick_params(axis=\"both\",which='major',direction=\"in\",width=axtick_major_width,length=axtick_major_length,labelsize=tick_labelsize,pad=tick_pad)\n",
    "\n",
    "    for axis in ['top','bottom','left','right']:\n",
    "        ax1.spines[axis].set_linewidth(0.7)\n",
    "        \n",
    "    plt.subplots_adjust(\n",
    "        left=0.09,\n",
    "        right=0.98,\n",
    "        bottom=0.06,\n",
    "        top=0.98,\n",
    "        wspace=0.2,\n",
    "        hspace=0.26)\n",
    "\n",
    "\n",
    "    plt.savefig(savefn + '.png',dpi=300,facecolor='white')\n",
    "    plt.show()  \n",
    "    "
   ]
  }
 ],
 "metadata": {
  "kernelspec": {
   "display_name": "Python 3",
   "language": "python",
   "name": "python3"
  },
  "language_info": {
   "codemirror_mode": {
    "name": "ipython",
    "version": 3
   },
   "file_extension": ".py",
   "mimetype": "text/x-python",
   "name": "python",
   "nbconvert_exporter": "python",
   "pygments_lexer": "ipython3",
   "version": "3.10.12"
  }
 },
 "nbformat": 4,
 "nbformat_minor": 2
}
