{
 "cells": [
  {
   "attachments": {},
   "cell_type": "markdown",
   "metadata": {},
   "source": [
    "## Imports"
   ]
  },
  {
   "cell_type": "code",
   "execution_count": 1,
   "metadata": {},
   "outputs": [],
   "source": [
    "import numpy as np\n",
    "import polycg"
   ]
  },
  {
   "cell_type": "markdown",
   "metadata": {},
   "source": [
    "### Generate RBP parameters in Cayley coordinates and relative to midstep triad"
   ]
  },
  {
   "cell_type": "code",
   "execution_count": 2,
   "metadata": {},
   "outputs": [
    {
     "name": "stdout",
     "output_type": "stream",
     "text": [
      "(100, 6)\n",
      "(600, 600)\n"
     ]
    }
   ],
   "source": [
    "# generate random sequence\n",
    "nbp = 101\n",
    "seq = ''.join(['atcg'[np.random.randint(4)] for i in range(nbp)])\n",
    "\n",
    "gs_cayley,stiff_cayley = polycg.cgnaplus_bps_params(seq,euler_definition=False,group_split=False,remove_factor_five=True)\n",
    "print(gs_cayley.shape)\n",
    "print(stiff_cayley.shape)"
   ]
  },
  {
   "cell_type": "markdown",
   "metadata": {},
   "source": [
    "### Transform from Cayley to Euler parameters"
   ]
  },
  {
   "cell_type": "code",
   "execution_count": 3,
   "metadata": {},
   "outputs": [],
   "source": [
    "# transform groundstate\n",
    "gs_euler = polycg.cayley2euler(gs_cayley)\n",
    "\n",
    "# transform stiffness matrix\n",
    "stiff_euler = polycg.cayley2euler_stiffmat(gs_cayley, stiff_cayley)"
   ]
  },
  {
   "cell_type": "markdown",
   "metadata": {},
   "source": [
    "### Coarse-Grain ground state only"
   ]
  },
  {
   "cell_type": "code",
   "execution_count": 5,
   "metadata": {},
   "outputs": [
    {
     "name": "stdout",
     "output_type": "stream",
     "text": [
      "(10, 6)\n"
     ]
    }
   ],
   "source": [
    "composite_size = 10\n",
    "cg_gs = polycg.cg_groundstate(gs_euler,composite_size=composite_size)\n",
    "print(cg_gs.shape)"
   ]
  },
  {
   "cell_type": "markdown",
   "metadata": {},
   "source": [
    "### Direct Generation\n",
    "The method `gen_params` can directly generate coarse-grained parameters if if the argument `composite_size` is specified"
   ]
  },
  {
   "cell_type": "code",
   "execution_count": 6,
   "metadata": {},
   "outputs": [
    {
     "name": "stdout",
     "output_type": "stream",
     "text": [
      "Generating partial stiffness matrix with\n",
      "block_size:   120\n",
      "overlap_size: 20\n",
      "tail_size:    20\n",
      "Generating stiffness from bps 0 to 120 (400 in total).\n",
      "Generating stiffness from bps 100 to 220 (400 in total).\n",
      "Generating stiffness from bps 200 to 400 (400 in total).\n",
      "convert to sparse\n",
      "Coarse-graining from bps 0 to 120 (400 in total).\n",
      "Coarse-graining from bps 100 to 220 (400 in total).\n",
      "Coarse-graining from bps 200 to 400 (400 in total).\n",
      "(40, 6)\n",
      "(240, 240)\n"
     ]
    }
   ],
   "source": [
    "# generate random sequence\n",
    "nbp = 401\n",
    "seq = ''.join(['atcg'[np.random.randint(4)] for i in range(nbp)])\n",
    "composite_size = 10\n",
    "\n",
    "params = polycg.gen_params('cgnaplus',seq,composite_size=composite_size)\n",
    "cg_gs = params['cg_gs']\n",
    "cg_stiff = params['cg_stiff']\n",
    "\n",
    "print(cg_gs.shape)\n",
    "print(cg_stiff.shape)"
   ]
  }
 ],
 "metadata": {
  "kernelspec": {
   "display_name": "Python 3",
   "language": "python",
   "name": "python3"
  },
  "language_info": {
   "codemirror_mode": {
    "name": "ipython",
    "version": 3
   },
   "file_extension": ".py",
   "mimetype": "text/x-python",
   "name": "python",
   "nbconvert_exporter": "python",
   "pygments_lexer": "ipython3",
   "version": "3.10.12"
  },
  "orig_nbformat": 4,
  "vscode": {
   "interpreter": {
    "hash": "916dbcbb3f70747c44a77c7bcd40155683ae19c65e1c03b4aa3499c5328201f1"
   }
  }
 },
 "nbformat": 4,
 "nbformat_minor": 2
}
