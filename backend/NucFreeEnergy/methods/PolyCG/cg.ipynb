{
 "cells": [
  {
   "attachments": {},
   "cell_type": "markdown",
   "metadata": {},
   "source": [
    "## Imports"
   ]
  },
  {
   "cell_type": "code",
   "execution_count": 1,
   "metadata": {},
   "outputs": [
    {
     "name": "stderr",
     "output_type": "stream",
     "text": [
      "/home/pol_schiessel/ensk996e/.local/lib/python3.11/site-packages/matplotlib/projections/__init__.py:63: UserWarning: Unable to import Axes3D. This may be due to multiple versions of Matplotlib being installed (e.g. as a system package and as a pip package). As a result, the 3D projection is not available.\n",
      "  warnings.warn(\"Unable to import Axes3D. This may be due to multiple versions of \"\n"
     ]
    }
   ],
   "source": [
    "import numpy as np\n",
    "import polycg"
   ]
  },
  {
   "cell_type": "markdown",
   "metadata": {},
   "source": [
    "### Generate example RBP parameters\n",
    "The groundstate and stiffness matrix for a given sequence can be generated with the method `gen_params`. The parameter set can be specified with the argument `method`, with the options:\n",
    "\n",
    "'lankas': [Lankas et al.](https://doi.org/10.1016/S0006-3495(03)74710-9)\n",
    "\n",
    "'olson': [Olson et al.](https://www.pnas.org/doi/full/10.1073/pnas.95.19.11163)\n",
    "\n",
    "'cgnaplus': [Sharma et al.](https://doi.org/10.1016/j.jmb.2023.167978)\n",
    "\n",
    "\n",
    "`gen_params` return a dictionary that contains the ground state `gs` (expressed in radians (rotations) and nm (translations)), the stiffness matrix `stiff` and the `sequence`. The resulting rotational parameters are expressed as Euler vectors and translations are expressed in terms of the first respective triad. "
   ]
  },
  {
   "cell_type": "code",
   "execution_count": 17,
   "metadata": {},
   "outputs": [
    {
     "name": "stdout",
     "output_type": "stream",
     "text": [
      "Generating partial stiffness matrix with\n",
      "block_size:   120\n",
      "overlap_size: 20\n",
      "tail_size:    20\n",
      "Generating stiffness from bps 0 to 120 (800 in total).\n",
      "Generating stiffness from bps 100 to 220 (800 in total).\n",
      "Generating stiffness from bps 200 to 320 (800 in total).\n",
      "Generating stiffness from bps 300 to 420 (800 in total).\n",
      "Generating stiffness from bps 400 to 520 (800 in total).\n",
      "Generating stiffness from bps 500 to 620 (800 in total).\n",
      "Generating stiffness from bps 600 to 800 (800 in total).\n",
      "convert to sparse\n",
      "(800, 6)\n",
      "(4800, 4800)\n"
     ]
    }
   ],
   "source": [
    "# generate random sequence\n",
    "nbp = 801\n",
    "seq = ''.join(['atcg'[np.random.randint(4)] for i in range(nbp)])\n",
    "\n",
    "method = 'cgnaplus'\n",
    "# method = 'lankas'\n",
    "# method = 'olson'\n",
    "\n",
    "# generate stiffness matrix and groundstate with cgnaplus\n",
    "params = polycg.gen_params('cgnaplus',seq)\n",
    "gs = params['gs']\n",
    "stiff = params['stiff']\n",
    "\n",
    "print(gs.shape)\n",
    "print(stiff.shape)"
   ]
  },
  {
   "cell_type": "markdown",
   "metadata": {},
   "source": [
    "### Coarse-Grain "
   ]
  },
  {
   "cell_type": "code",
   "execution_count": 20,
   "metadata": {},
   "outputs": [
    {
     "name": "stdout",
     "output_type": "stream",
     "text": [
      "Coarse-graining from bps 0 to 200 (800 in total).\n",
      "Coarse-graining from bps 140 to 340 (800 in total).\n",
      "Coarse-graining from bps 280 to 480 (800 in total).\n",
      "Coarse-graining from bps 420 to 620 (800 in total).\n",
      "Coarse-graining from bps 560 to 800 (800 in total).\n",
      "(80, 6)\n",
      "(480, 480)\n",
      "difference = 0.0007227872403280678\n"
     ]
    }
   ],
   "source": [
    "# set composite size (k)\n",
    "composite_size = 10\n",
    "\n",
    "# set lower and upper bound for restricted selection range\n",
    "start_id = 0    # starting at first element\n",
    "end_id   = None # till end\n",
    "\n",
    "# allow for coarse-graining in partial ranges to avoid large matrix inversion and reduce computation time\n",
    "allow_partial=True\n",
    "\n",
    "# size of partial blocks in number of composites\n",
    "block_ncomp=20 #(block_ncomp*composite_size bps entries)\n",
    "\n",
    "# size of block overlap to account for non-local couplings\n",
    "overlap_ncomp=6\n",
    "\n",
    "# size of additional entries to improve agreement with full calculation if couplings are non-local\n",
    "tail_ncomp=6\n",
    "\n",
    "# coarse-grain parameters\n",
    "cg_gs, cg_stiff = polycg.coarse_grain(\n",
    "    gs,\n",
    "    stiff,\n",
    "    composite_size,\n",
    "    start_id=start_id,\n",
    "    end_id=end_id,\n",
    "    allow_partial=allow_partial,\n",
    "    block_ncomp=block_ncomp,\n",
    "    overlap_ncomp=overlap_ncomp,\n",
    "    tail_ncomp=tail_ncomp\n",
    ")\n",
    "\n",
    "print(cg_gs.shape)\n",
    "print(cg_stiff.shape)\n",
    "\n",
    "\n",
    "# coarse-grain without partial\n",
    "allow_partial = False\n",
    "cg_gs, cg_stiff_np = polycg.coarse_grain(gs,stiff,composite_size,start_id=start_id,end_id=end_id,allow_partial=allow_partial,block_ncomp=block_ncomp,overlap_ncomp=overlap_ncomp,tail_ncomp=tail_ncomp)\n",
    "\n",
    "\n",
    "# difference between partial and non-partial\n",
    "diff = np.sum(np.abs(cg_stiff.toarray()-cg_stiff_np.toarray()))\n",
    "print(f'difference = {diff}')\n"
   ]
  },
  {
   "cell_type": "markdown",
   "metadata": {},
   "source": [
    "### Coarse-Grain ground state only"
   ]
  },
  {
   "cell_type": "code",
   "execution_count": 24,
   "metadata": {},
   "outputs": [
    {
     "name": "stdout",
     "output_type": "stream",
     "text": [
      "(80, 6)\n"
     ]
    }
   ],
   "source": [
    "composite_size = 10\n",
    "cg_gs = polycg.cg_groundstate(gs,composite_size=composite_size)\n",
    "print(cg_gs.shape)"
   ]
  },
  {
   "cell_type": "markdown",
   "metadata": {},
   "source": [
    "### Direct Generation\n",
    "The method `gen_params` can directly generate coarse-grained parameters if if the argument `composite_size` is specified"
   ]
  },
  {
   "cell_type": "code",
   "execution_count": null,
   "metadata": {},
   "outputs": [],
   "source": [
    "# generate random sequence\n",
    "nbp = 401\n",
    "seq = ''.join(['atcg'[np.random.randint(4)] for i in range(nbp)])\n",
    "composite_size = 10\n",
    "\n",
    "params = polycg.gen_params('cgnaplus',seq,composite_size=composite_size)\n",
    "cg_gs = params['cg_gs']\n",
    "cg_stiff = params['cg_stiff']\n",
    "\n",
    "print(cg_gs.shape)\n",
    "print(cg_stiff.shape)"
   ]
  }
 ],
 "metadata": {
  "kernelspec": {
   "display_name": "Python 3",
   "language": "python",
   "name": "python3"
  },
  "language_info": {
   "codemirror_mode": {
    "name": "ipython",
    "version": 3
   },
   "file_extension": ".py",
   "mimetype": "text/x-python",
   "name": "python",
   "nbconvert_exporter": "python",
   "pygments_lexer": "ipython3",
   "version": "3.11.0"
  },
  "orig_nbformat": 4,
  "vscode": {
   "interpreter": {
    "hash": "916dbcbb3f70747c44a77c7bcd40155683ae19c65e1c03b4aa3499c5328201f1"
   }
  }
 },
 "nbformat": 4,
 "nbformat_minor": 2
}
