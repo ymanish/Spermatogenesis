{
 "cells": [
  {
   "attachments": {},
   "cell_type": "markdown",
   "metadata": {},
   "source": [
    "## Imports"
   ]
  },
  {
   "cell_type": "code",
   "execution_count": 2,
   "metadata": {},
   "outputs": [
    {
     "name": "stderr",
     "output_type": "stream",
     "text": [
      "/home/pol_schiessel/ensk996e/.local/lib/python3.11/site-packages/matplotlib/projections/__init__.py:63: UserWarning: Unable to import Axes3D. This may be due to multiple versions of Matplotlib being installed (e.g. as a system package and as a pip package). As a result, the 3D projection is not available.\n",
      "  warnings.warn(\"Unable to import Axes3D. This may be due to multiple versions of \"\n"
     ]
    }
   ],
   "source": [
    "import sys, os\n",
    "import time\n",
    "import argparse\n",
    "import numpy as np\n",
    "import scipy as sp\n",
    "from typing import Any, Callable, Dict, List, Tuple\n",
    "\n",
    "from polycg.Aux.bmat import BlockOverlapMatrix\n",
    "\n",
    "from polycg.IOPolyMC.iopolymc import write_idb\n",
    "from polycg.Aux.seq import (\n",
    "    sequence_file,\n",
    "    unique_oli_seq,\n",
    "    unique_olis_in_seq,\n",
    "    seq2oliseq,\n",
    "    all_oligomers,\n",
    "    randseq,\n",
    ")\n",
    "\n",
    "from polycg.Aux.aux import load_sequence\n",
    "from polycg.partials import partial_stiff\n",
    "from polycg.cg import coarse_grain\n",
    "from polycg.Transforms.transform_marginals import matrix_rotmarginal,vector_rotmarginal\n",
    "from polycg.Transforms.transform_statevec import statevec2vecs, vecs2statevec\n",
    "\n",
    "from polycg.cgnaplus import cgnaplus_bps_params\n",
    "from polycg.Models.RBPStiff.read_params import GenStiffness\n",
    "from polycg.SO3 import so3"
   ]
  },
  {
   "cell_type": "markdown",
   "metadata": {},
   "source": [
    "### Generate Stiffness"
   ]
  },
  {
   "cell_type": "code",
   "execution_count": 3,
   "metadata": {},
   "outputs": [
    {
     "name": "stdout",
     "output_type": "stream",
     "text": [
      "Generating partial stiffness matrix with\n",
      "block_size:   120\n",
      "overlap_size: 20\n",
      "tail_size:    20\n",
      "Generating stiffness from bps 0 to 120 (2000 in total).\n",
      "Generating stiffness from bps 100 to 220 (2000 in total).\n",
      "Generating stiffness from bps 200 to 320 (2000 in total).\n",
      "Generating stiffness from bps 300 to 420 (2000 in total).\n",
      "Generating stiffness from bps 400 to 520 (2000 in total).\n",
      "Generating stiffness from bps 500 to 620 (2000 in total).\n",
      "Generating stiffness from bps 600 to 720 (2000 in total).\n",
      "Generating stiffness from bps 700 to 820 (2000 in total).\n",
      "Generating stiffness from bps 800 to 920 (2000 in total).\n",
      "Generating stiffness from bps 900 to 1020 (2000 in total).\n",
      "Generating stiffness from bps 1000 to 1120 (2000 in total).\n",
      "Generating stiffness from bps 1100 to 1220 (2000 in total).\n",
      "Generating stiffness from bps 1200 to 1320 (2000 in total).\n",
      "Generating stiffness from bps 1300 to 1420 (2000 in total).\n",
      "Generating stiffness from bps 1400 to 1520 (2000 in total).\n",
      "Generating stiffness from bps 1500 to 1620 (2000 in total).\n",
      "Generating stiffness from bps 1600 to 1720 (2000 in total).\n",
      "Generating stiffness from bps 1700 to 1820 (2000 in total).\n",
      "Generating stiffness from bps 1800 to 2000 (2000 in total).\n",
      "convert to sparse\n"
     ]
    }
   ],
   "source": [
    "seqfn = 'Data/JanSeq/Lipfert_7p9kb'\n",
    "seq = load_sequence(seqfn).lower()\n",
    "\n",
    "seq = seq[:2001]\n",
    "\n",
    "unique_sequence = True\n",
    "method = cgnaplus_bps_params\n",
    "stiffgen_args = {\n",
    "    'translations_in_nm': True, \n",
    "    'euler_definition': True, \n",
    "    'group_split' : True,\n",
    "    'parameter_set_name' : 'curves_plus',\n",
    "    'remove_factor_five' : True,\n",
    "    'rotations_only': True\n",
    "    }\n",
    "\n",
    "block_size = 120\n",
    "overlap_size = 20\n",
    "tail_size = 20\n",
    "nbps = len(seq)-1\n",
    "\n",
    "if overlap_size > nbps:\n",
    "    overlap_size = nbps-1\n",
    "if block_size > nbps:\n",
    "    block_size = nbps\n",
    "\n",
    "print('Generating partial stiffness matrix with')    \n",
    "print(f'block_size:   {block_size}')\n",
    "print(f'overlap_size: {overlap_size}')\n",
    "print(f'tail_size:    {tail_size}')\n",
    "\n",
    "gs,stiff = partial_stiff(seq,method,stiffgen_args,block_size=block_size,overlap_size=overlap_size,tail_size=tail_size,closed=False,ndims=3)\n",
    "        "
   ]
  },
  {
   "cell_type": "markdown",
   "metadata": {},
   "source": [
    "### Evaluate single stiffmat\n"
   ]
  },
  {
   "cell_type": "code",
   "execution_count": 4,
   "metadata": {},
   "outputs": [
    {
     "name": "stdout",
     "output_type": "stream",
     "text": [
      "(2000, 3)\n",
      "(6000, 6000)\n",
      "<class 'scipy.sparse._csc.csc_matrix'>\n"
     ]
    }
   ],
   "source": [
    "print(gs.shape)\n",
    "print(stiff.shape)\n",
    "\n",
    "print(type(stiff))\n",
    "    "
   ]
  },
  {
   "cell_type": "markdown",
   "metadata": {},
   "source": [
    "### Calculate Persistence length"
   ]
  },
  {
   "cell_type": "code",
   "execution_count": 5,
   "metadata": {},
   "outputs": [
    {
     "name": "stdout",
     "output_type": "stream",
     "text": [
      "m = 20\n",
      " w = 0\n",
      "Coarse-graining from bps 0 to 320 (2000 in total).\n",
      "Coarse-graining from bps 240 to 560 (2000 in total).\n",
      "Coarse-graining from bps 480 to 800 (2000 in total).\n",
      "Coarse-graining from bps 720 to 1040 (2000 in total).\n",
      "Coarse-graining from bps 960 to 1280 (2000 in total).\n",
      "Coarse-graining from bps 1200 to 1520 (2000 in total).\n",
      "Coarse-graining from bps 1440 to 1760 (2000 in total).\n",
      "Coarse-graining from bps 1680 to 2000 (2000 in total).\n",
      " w = 5\n",
      "Coarse-graining from bps 0 to 320 (1980 in total).\n",
      "Coarse-graining from bps 240 to 560 (1980 in total).\n",
      "Coarse-graining from bps 480 to 800 (1980 in total).\n",
      "Coarse-graining from bps 720 to 1040 (1980 in total).\n",
      "Coarse-graining from bps 960 to 1280 (1980 in total).\n",
      "Coarse-graining from bps 1200 to 1520 (1980 in total).\n",
      "Coarse-graining from bps 1440 to 1980 (1980 in total).\n",
      " w = 10\n",
      "Coarse-graining from bps 0 to 320 (1980 in total).\n",
      "Coarse-graining from bps 240 to 560 (1980 in total).\n",
      "Coarse-graining from bps 480 to 800 (1980 in total).\n",
      "Coarse-graining from bps 720 to 1040 (1980 in total).\n",
      "Coarse-graining from bps 960 to 1280 (1980 in total).\n",
      "Coarse-graining from bps 1200 to 1520 (1980 in total).\n",
      "Coarse-graining from bps 1440 to 1980 (1980 in total).\n",
      " w = 15\n",
      "Coarse-graining from bps 0 to 320 (1980 in total).\n",
      "Coarse-graining from bps 240 to 560 (1980 in total).\n",
      "Coarse-graining from bps 480 to 800 (1980 in total).\n",
      "Coarse-graining from bps 720 to 1040 (1980 in total).\n",
      "Coarse-graining from bps 960 to 1280 (1980 in total).\n",
      "Coarse-graining from bps 1200 to 1520 (1980 in total).\n",
      "Coarse-graining from bps 1440 to 1980 (1980 in total).\n",
      "m = 23\n",
      " w = 0\n",
      "Coarse-graining from bps 0 to 368 (1978 in total).\n",
      "Coarse-graining from bps 276 to 644 (1978 in total).\n",
      "Coarse-graining from bps 552 to 920 (1978 in total).\n",
      "Coarse-graining from bps 828 to 1196 (1978 in total).\n",
      "Coarse-graining from bps 1104 to 1472 (1978 in total).\n",
      "Coarse-graining from bps 1380 to 1978 (1978 in total).\n",
      " w = 5\n",
      "Coarse-graining from bps 0 to 368 (1978 in total).\n",
      "Coarse-graining from bps 276 to 644 (1978 in total).\n",
      "Coarse-graining from bps 552 to 920 (1978 in total).\n",
      "Coarse-graining from bps 828 to 1196 (1978 in total).\n",
      "Coarse-graining from bps 1104 to 1472 (1978 in total).\n",
      "Coarse-graining from bps 1380 to 1978 (1978 in total).\n",
      " w = 10\n",
      "Coarse-graining from bps 0 to 368 (1978 in total).\n",
      "Coarse-graining from bps 276 to 644 (1978 in total).\n",
      "Coarse-graining from bps 552 to 920 (1978 in total).\n",
      "Coarse-graining from bps 828 to 1196 (1978 in total).\n",
      "Coarse-graining from bps 1104 to 1472 (1978 in total).\n",
      "Coarse-graining from bps 1380 to 1978 (1978 in total).\n",
      " w = 15\n",
      "Coarse-graining from bps 0 to 368 (1978 in total).\n",
      "Coarse-graining from bps 276 to 644 (1978 in total).\n",
      "Coarse-graining from bps 552 to 920 (1978 in total).\n",
      "Coarse-graining from bps 828 to 1196 (1978 in total).\n",
      "Coarse-graining from bps 1104 to 1472 (1978 in total).\n",
      "Coarse-graining from bps 1380 to 1978 (1978 in total).\n",
      " w = 20\n",
      "Coarse-graining from bps 0 to 368 (1978 in total).\n",
      "Coarse-graining from bps 276 to 644 (1978 in total).\n",
      "Coarse-graining from bps 552 to 920 (1978 in total).\n",
      "Coarse-graining from bps 828 to 1196 (1978 in total).\n",
      "Coarse-graining from bps 1104 to 1472 (1978 in total).\n",
      "Coarse-graining from bps 1380 to 1978 (1978 in total).\n",
      "m = 26\n",
      " w = 0\n",
      "Coarse-graining from bps 0 to 416 (1976 in total).\n",
      "Coarse-graining from bps 312 to 728 (1976 in total).\n",
      "Coarse-graining from bps 624 to 1040 (1976 in total).\n",
      "Coarse-graining from bps 936 to 1352 (1976 in total).\n",
      "Coarse-graining from bps 1248 to 1664 (1976 in total).\n",
      "Coarse-graining from bps 1560 to 1976 (1976 in total).\n",
      " w = 6\n",
      "Coarse-graining from bps 0 to 416 (1976 in total).\n",
      "Coarse-graining from bps 312 to 728 (1976 in total).\n",
      "Coarse-graining from bps 624 to 1040 (1976 in total).\n",
      "Coarse-graining from bps 936 to 1352 (1976 in total).\n",
      "Coarse-graining from bps 1248 to 1664 (1976 in total).\n",
      "Coarse-graining from bps 1560 to 1976 (1976 in total).\n",
      " w = 12\n",
      "Coarse-graining from bps 0 to 416 (1976 in total).\n",
      "Coarse-graining from bps 312 to 728 (1976 in total).\n",
      "Coarse-graining from bps 624 to 1040 (1976 in total).\n",
      "Coarse-graining from bps 936 to 1352 (1976 in total).\n",
      "Coarse-graining from bps 1248 to 1664 (1976 in total).\n",
      "Coarse-graining from bps 1560 to 1976 (1976 in total).\n",
      " w = 18\n",
      "Coarse-graining from bps 0 to 416 (1976 in total).\n",
      "Coarse-graining from bps 312 to 728 (1976 in total).\n",
      "Coarse-graining from bps 624 to 1040 (1976 in total).\n",
      "Coarse-graining from bps 936 to 1352 (1976 in total).\n",
      "Coarse-graining from bps 1248 to 1664 (1976 in total).\n",
      "Coarse-graining from bps 1560 to 1976 (1976 in total).\n",
      " w = 24\n",
      "Coarse-graining from bps 0 to 416 (1976 in total).\n",
      "Coarse-graining from bps 312 to 728 (1976 in total).\n",
      "Coarse-graining from bps 624 to 1040 (1976 in total).\n",
      "Coarse-graining from bps 936 to 1352 (1976 in total).\n",
      "Coarse-graining from bps 1248 to 1664 (1976 in total).\n",
      "Coarse-graining from bps 1560 to 1976 (1976 in total).\n",
      "m = 29\n",
      " w = 0\n",
      "Coarse-graining from bps 0 to 464 (1972 in total).\n",
      "Coarse-graining from bps 348 to 812 (1972 in total).\n",
      "Coarse-graining from bps 696 to 1160 (1972 in total).\n",
      "Coarse-graining from bps 1044 to 1508 (1972 in total).\n",
      "Coarse-graining from bps 1392 to 1972 (1972 in total).\n",
      " w = 7\n",
      "Coarse-graining from bps 0 to 464 (1972 in total).\n",
      "Coarse-graining from bps 348 to 812 (1972 in total).\n",
      "Coarse-graining from bps 696 to 1160 (1972 in total).\n",
      "Coarse-graining from bps 1044 to 1508 (1972 in total).\n",
      "Coarse-graining from bps 1392 to 1972 (1972 in total).\n",
      " w = 14\n",
      "Coarse-graining from bps 0 to 464 (1972 in total).\n",
      "Coarse-graining from bps 348 to 812 (1972 in total).\n",
      "Coarse-graining from bps 696 to 1160 (1972 in total).\n",
      "Coarse-graining from bps 1044 to 1508 (1972 in total).\n",
      "Coarse-graining from bps 1392 to 1972 (1972 in total).\n",
      " w = 21\n",
      "Coarse-graining from bps 0 to 464 (1972 in total).\n",
      "Coarse-graining from bps 348 to 812 (1972 in total).\n",
      "Coarse-graining from bps 696 to 1160 (1972 in total).\n",
      "Coarse-graining from bps 1044 to 1508 (1972 in total).\n",
      "Coarse-graining from bps 1392 to 1972 (1972 in total).\n",
      " w = 28\n",
      "Coarse-graining from bps 0 to 464 (1972 in total).\n",
      "Coarse-graining from bps 348 to 812 (1972 in total).\n",
      "Coarse-graining from bps 696 to 1160 (1972 in total).\n",
      "Coarse-graining from bps 1044 to 1508 (1972 in total).\n",
      "Coarse-graining from bps 1392 to 1972 (1972 in total).\n",
      "m = 32\n",
      " w = 0\n",
      "Coarse-graining from bps 0 to 512 (1984 in total).\n",
      "Coarse-graining from bps 384 to 896 (1984 in total).\n",
      "Coarse-graining from bps 768 to 1280 (1984 in total).\n",
      "Coarse-graining from bps 1152 to 1984 (1984 in total).\n",
      " w = 8\n",
      "Coarse-graining from bps 0 to 512 (1984 in total).\n",
      "Coarse-graining from bps 384 to 896 (1984 in total).\n",
      "Coarse-graining from bps 768 to 1280 (1984 in total).\n",
      "Coarse-graining from bps 1152 to 1984 (1984 in total).\n",
      " w = 16\n",
      "Coarse-graining from bps 0 to 512 (1984 in total).\n",
      "Coarse-graining from bps 384 to 896 (1984 in total).\n",
      "Coarse-graining from bps 768 to 1280 (1984 in total).\n",
      "Coarse-graining from bps 1152 to 1984 (1984 in total).\n",
      " w = 24\n",
      "Coarse-graining from bps 0 to 512 (1952 in total).\n",
      "Coarse-graining from bps 384 to 896 (1952 in total).\n",
      "Coarse-graining from bps 768 to 1280 (1952 in total).\n",
      "Coarse-graining from bps 1152 to 1952 (1952 in total).\n"
     ]
    },
    {
     "ename": "IndexError",
     "evalue": "index 12 is out of bounds for axis 0 with size 11",
     "output_type": "error",
     "traceback": [
      "\u001b[0;31m---------------------------------------------------------------------------\u001b[0m",
      "\u001b[0;31mIndexError\u001b[0m                                Traceback (most recent call last)",
      "Cell \u001b[0;32mIn[5], line 54\u001b[0m\n\u001b[1;32m     52\u001b[0m     vals \u001b[38;5;241m+\u001b[39m\u001b[38;5;241m=\u001b[39m val\n\u001b[1;32m     53\u001b[0m     ns \u001b[38;5;241m+\u001b[39m\u001b[38;5;241m=\u001b[39m n\n\u001b[0;32m---> 54\u001b[0m \u001b[43mtancor\u001b[49m\u001b[43m[\u001b[49m\u001b[43mm\u001b[49m\u001b[38;5;241;43m-\u001b[39;49m\u001b[43mmstart\u001b[49m\u001b[43m,\u001b[49m\u001b[38;5;241;43m1\u001b[39;49m\u001b[43m]\u001b[49m \u001b[38;5;241m=\u001b[39m vals \u001b[38;5;241m/\u001b[39m ns\n",
      "\u001b[0;31mIndexError\u001b[0m: index 12 is out of bounds for axis 0 with size 11"
     ]
    }
   ],
   "source": [
    "def eval_window(gs,stiff):\n",
    "    cov = sp.sparse.linalg.inv(stiff)\n",
    "    S = np.zeros((len(gs),3,3))\n",
    "    for i in range(len(gs)):\n",
    "        S[i] = so3.euler2rotmat(gs[i])\n",
    "\n",
    "    val = 0\n",
    "    for i in range(len(gs)):\n",
    "        d = np.zeros(3)\n",
    "        d[0] = 0.5 * cov[i*3+0,i*3+2]\n",
    "        d[1] = 0.5 * cov[i*3+1,i*3+2]\n",
    "        d[2] = 1 - 0.5 * (cov[i*3+0,i*3+0] + cov[i*3+1,i*3+1])\n",
    "        \n",
    "        d[0] += -1./24 * (3*cov[i*3+0,i*3+2]*cov[i*3+0,i*3+0]) \n",
    "        d[0] += -1./24 * (  cov[i*3+0,i*3+2]*cov[i*3+1,i*3+1] + 2 * cov[i*3+0,i*3+1]*cov[i*3+2,i*3+1]) \n",
    "        d[0] += -1./24 * (3*cov[i*3+0,i*3+2]*cov[i*3+2,i*3+2]) \n",
    "        \n",
    "        d[1] += -1./24 * (  cov[i*3+1,i*3+2]*cov[i*3+0,i*3+0] + 2 * cov[i*3+0,i*3+1]*cov[i*3+0,i*3+2]) \n",
    "        d[1] += -1./24 * (3*cov[i*3+1,i*3+2]*cov[i*3+1,i*3+1]) \n",
    "        d[1] += -1./24 * (3*cov[i*3+1,i*3+2]*cov[i*3+2,i*3+2]) \n",
    "        \n",
    "        d[2] += 1./24 * (  cov[i*3+0,i*3+0]*cov[i*3+2,i*3+2] + 2 * cov[i*3+0,i*3+2]*cov[i*3+0,i*3+2]) \n",
    "        d[2] += 1./24 * (  cov[i*3+1,i*3+1]*cov[i*3+2,i*3+2] + 2 * cov[i*3+1,i*3+2]*cov[i*3+1,i*3+2]) \n",
    "        d[2] += 1./24 * (  cov[i*3+0,i*3+0]*cov[i*3+1,i*3+1] + 2 * cov[i*3+0,i*3+1]*cov[i*3+0,i*3+1]) \n",
    "        d[2] += 1./24 * (3*cov[i*3+0,i*3+0]*cov[i*3+0,i*3+0]) \n",
    "        d[2] += 1./24 * (3*cov[i*3+1,i*3+1]*cov[i*3+1,i*3+1]) \n",
    "        \n",
    "        val += np.dot(S[i,2],d)\n",
    "        # val += S[i,2,2]\n",
    "    return val,len(gs)\n",
    "\n",
    "mstart = 20\n",
    "mmax = 50\n",
    "mstep = 3\n",
    "mvals = np.arange(mstart,mmax+1,mstep)\n",
    "tancor = np.zeros((len(mvals),2))\n",
    "tancor[:,0] = mvals\n",
    "for id,m in enumerate(mvals):\n",
    "    print(f'm = {m}')\n",
    "    \n",
    "    if m == 1:\n",
    "        val,n = eval_window(gs,stiff)\n",
    "        tancor[m-1,1] = val / n\n",
    "    else:\n",
    "        vals = 0\n",
    "        ns   = 0\n",
    "        # for w in range(m):\n",
    "        for w in range(0,m,m//4):\n",
    "            print(f' w = {w}')\n",
    "            cg_gs,cg_stiff = coarse_grain(gs,stiff,m,start_id=w,allow_partial=True)\n",
    "            val,n = eval_window(cg_gs,cg_stiff)\n",
    "            vals += val\n",
    "            ns += n\n",
    "        tancor[m-mstart,1] = vals / ns\n",
    "\n",
    "    "
   ]
  },
  {
   "cell_type": "markdown",
   "metadata": {},
   "source": [
    "### copy_old"
   ]
  },
  {
   "cell_type": "code",
   "execution_count": null,
   "metadata": {},
   "outputs": [],
   "source": [
    "tancor_1kb = np.copy(tancor)"
   ]
  },
  {
   "cell_type": "markdown",
   "metadata": {},
   "source": [
    "### Plot persistence length"
   ]
  },
  {
   "cell_type": "code",
   "execution_count": null,
   "metadata": {},
   "outputs": [
    {
     "data": {
      "image/png": "[encoded data removed]",
      "text/plain": [
       "<Figure size 2078.74x708.661 with 1 Axes>"
      ]
     },
     "metadata": {},
     "output_type": "display_data"
    }
   ],
   "source": [
    "import matplotlib.pyplot as plt\n",
    "\n",
    "disc_len = 0.34\n",
    "lb = np.copy(tancor)\n",
    "lb[:,1] = -lb[:,0]*disc_len / np.log(lb[:,1])\n",
    "\n",
    "lb = lb[:45]\n",
    "\n",
    "fig = plt.figure(figsize=(8/2.54*2.2, 6/2.54), dpi=300,facecolor='w',edgecolor='k')\n",
    "ax1  = fig.add_subplot(121)\n",
    "ax1.plot(lb[:,0],lb[:,1],lw=1,color='black')\n",
    "\n",
    "plt.show\n",
    "\n",
    "\n",
    "np.save('Data/JanSeq/Lipfert_7p9kb_lb4.npy',lb)"
   ]
  },
  {
   "cell_type": "code",
   "execution_count": null,
   "metadata": {},
   "outputs": [],
   "source": []
  }
 ],
 "metadata": {
  "kernelspec": {
   "display_name": "Python 3",
   "language": "python",
   "name": "python3"
  },
  "language_info": {
   "codemirror_mode": {
    "name": "ipython",
    "version": 3
   },
   "file_extension": ".py",
   "mimetype": "text/x-python",
   "name": "python",
   "nbconvert_exporter": "python",
   "pygments_lexer": "ipython3",
   "version": "3.11.0"
  },
  "orig_nbformat": 4,
  "vscode": {
   "interpreter": {
    "hash": "916dbcbb3f70747c44a77c7bcd40155683ae19c65e1c03b4aa3499c5328201f1"
   }
  }
 },
 "nbformat": 4,
 "nbformat_minor": 2
}
