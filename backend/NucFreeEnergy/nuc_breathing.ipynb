{
 "cells": [
  {
   "cell_type": "code",
   "execution_count": 1,
   "metadata": {},
   "outputs": [],
   "source": [
    "import sys, os\n",
    "import numpy as np\n",
    "import scipy as sp\n",
    "from typing import List, Tuple, Callable, Any, Dict\n",
    "\n",
    "from methods.PolyCG.polycg.SO3 import so3\n",
    "from methods.PolyCG.polycg.transforms.transform_SO3 import euler2rotmat_so3\n",
    "from methods.PolyCG.polycg.transforms.transform_marginals import send_to_back_permutation\n",
    "from methods.midstep_composites import midstep_composition_transformation, midstep_se3_groundstate\n",
    "from methods.read_nuc_data import read_nucleosome_triads, GenStiffness\n",
    "from methods.free_energy import midstep_excess_vals, calculate_midstep_triads\n",
    "\n",
    "from methods.PolyCG.polycg.cgnaplus import cgnaplus_bps_params\n",
    "\n",
    "np.set_printoptions(linewidth=250,precision=5,suppress=True)"
   ]
  },
  {
   "cell_type": "markdown",
   "metadata": {},
   "source": [
    "### Generate stiffness and read midstep triads"
   ]
  },
  {
   "cell_type": "code",
   "execution_count": 2,
   "metadata": {},
   "outputs": [],
   "source": [
    "genstiff = GenStiffness(method='MD')\n",
    "\n",
    "# seq = ''.join(['ATCG'[np.random.randint(4)] for i in range(147)])\n",
    "seq601 = \"ATCGAGAATCCCGGTGCCGAGGCCGCTCAATTGGTCGTAGACAGCTCTAGCACCGCTTAAACGCACGTACGCGCTGTCCCCCGCGTTTTAACCGCCAAGGGGATTACTCCCTAGTCTCCAGGCACGTGTCAGATATATACATCCGAT\"\n",
    "seq = seq601\n",
    "\n",
    "stiff,gs = genstiff.gen_params(seq)\n",
    "\n",
    "triadfn = 'methods/State/Nucleosome.state'\n",
    "nuctriads = read_nucleosome_triads(triadfn)\n",
    "\n",
    "midstep_locs = [\n",
    "    2, 6, 14, 17, 24, 29, \n",
    "    34, 38, 45, 49, 55, 59, \n",
    "    65, 69, 76, 80, 86, 90, \n",
    "    96, 100, 107, 111, 116, 121, \n",
    "    128, 131, 139, 143\n",
    "]\n",
    "\n",
    "midstep_triads = calculate_midstep_triads(\n",
    "    midstep_locs,\n",
    "    nuctriads\n",
    ")"
   ]
  },
  {
   "cell_type": "markdown",
   "metadata": {},
   "source": [
    "### Generate unrestrained stiffness in composite basis"
   ]
  },
  {
   "cell_type": "code",
   "execution_count": 3,
   "metadata": {},
   "outputs": [],
   "source": [
    "def transformed_coordinates_stiffmat(groundstate,stiffmat,midstep_locs):\n",
    "    # find composite transformation\n",
    "    transform, replaced_ids = midstep_composition_transformation(\n",
    "        groundstate,\n",
    "        midstep_locs\n",
    "    )\n",
    "    \n",
    "    # transform stiffness matrix\n",
    "    inv_transform = np.linalg.inv(transform)\n",
    "    stiffmat_transformed = inv_transform.T @ stiffmat @ inv_transform\n",
    "    \n",
    "    # rearrange stiffness matrix\n",
    "    full_replaced_ids = list()\n",
    "    for i in range(len(replaced_ids)):\n",
    "        full_replaced_ids += [6*replaced_ids[i]+j for j in range(6)]\n",
    "    \n",
    "    P = send_to_back_permutation(len(stiffmat),full_replaced_ids)\n",
    "    stiffmat_rearranged = P @ stiffmat_transformed @ P.T\n",
    "\n",
    "    # select fluctuating, constraint and coupling part of matrix\n",
    "    N  = len(stiffmat)\n",
    "    NC = len(full_replaced_ids)\n",
    "    NF = N-NC\n",
    "    \n",
    "    MF = stiffmat_rearranged[:NF,:NF]\n",
    "    MC = stiffmat_rearranged[NF:,NF:]\n",
    "    MM = stiffmat_rearranged[NF:,:NF]\n",
    "    \n",
    "    data = {}\n",
    "    data['bare'] = stiffmat\n",
    "    data['full'] = stiffmat_rearranged\n",
    "    data['orig'] = MF\n",
    "    data['comp'] = MC\n",
    "    data['coup'] = MM\n",
    "    \n",
    "    data['comp_marginal'] = MC - MM @ np.linalg.inv(MF) @ MM.T\n",
    "    data['orig_marginal'] = MF - MM.T @ np.linalg.inv(MC) @ MM\n",
    "    data['F_jacob'] = np.log(np.linalg.det(transform))\n",
    "    return data\n",
    "\n",
    "def is_pos_def(x):\n",
    "    return np.all(np.linalg.eigvals(x) > 0)"
   ]
  },
  {
   "cell_type": "markdown",
   "metadata": {},
   "source": [
    "### calculate groundstate"
   ]
  },
  {
   "cell_type": "code",
   "execution_count": 4,
   "metadata": {},
   "outputs": [],
   "source": [
    "# find composite transformation\n",
    "transform, replaced_ids = midstep_composition_transformation(\n",
    "    gs,\n",
    "    midstep_locs\n",
    ")\n",
    "\n",
    "# transform stiffness matrix\n",
    "inv_transform = np.linalg.inv(transform)\n",
    "stiffmat_transformed = inv_transform.T @ stiff @ inv_transform\n",
    "\n",
    "# rearrange stiffness matrix\n",
    "full_replaced_ids = list()\n",
    "for i in range(len(replaced_ids)):\n",
    "    full_replaced_ids += [6*replaced_ids[i]+j for j in range(6)]\n",
    "\n",
    "P = send_to_back_permutation(len(stiff),full_replaced_ids)\n",
    "stiffmat_rearranged = P @ stiffmat_transformed @ P.T\n",
    "\n",
    "# select fluctuating, constraint and coupling part of matrix\n",
    "N  = len(stiff)\n",
    "NC = len(full_replaced_ids)\n",
    "NF = N-NC\n",
    "\n",
    "MF = stiffmat_rearranged[:NF,:NF]\n",
    "MC = stiffmat_rearranged[NF:,NF:]\n",
    "MM = stiffmat_rearranged[NF:,:NF]\n",
    "\n",
    "# calculate composite values\n",
    "excess_vals = midstep_excess_vals(\n",
    "    gs,\n",
    "    midstep_locs,\n",
    "    midstep_triads\n",
    ")\n",
    "C = excess_vals.flatten()\n",
    "\n"
   ]
  },
  {
   "cell_type": "markdown",
   "metadata": {},
   "source": [
    "### Methods"
   ]
  },
  {
   "cell_type": "code",
   "execution_count": 5,
   "metadata": {},
   "outputs": [],
   "source": [
    "def transformed_coordinates_stiffmat(groundstate,stiffmat,midstep_locs):\n",
    "\n",
    "    # find composite transformation\n",
    "    transform, replaced_ids = midstep_composition_transformation(\n",
    "        groundstate,\n",
    "        midstep_locs\n",
    "    )\n",
    "    \n",
    "    # transform stiffness matrix\n",
    "    inv_transform = np.linalg.inv(transform)\n",
    "    stiffmat_transformed = inv_transform.T @ stiffmat @ inv_transform\n",
    "    \n",
    "    # rearrange stiffness matrix\n",
    "    full_replaced_ids = list()\n",
    "    for i in range(len(replaced_ids)):\n",
    "        full_replaced_ids += [6*replaced_ids[i]+j for j in range(6)]\n",
    "    \n",
    "    P = send_to_back_permutation(len(stiffmat),full_replaced_ids)\n",
    "    stiffmat_rearranged = P @ stiffmat_transformed @ P.T\n",
    "\n",
    "    # select fluctuating, constraint and coupling part of matrix\n",
    "    N  = len(stiffmat)\n",
    "    NC = len(full_replaced_ids)\n",
    "    NF = N-NC\n",
    "    \n",
    "    MF = stiffmat_rearranged[:NF,:NF]\n",
    "    MC = stiffmat_rearranged[NF:,NF:]\n",
    "    MM = stiffmat_rearranged[NF:,:NF]\n",
    "    \n",
    "    data = {}\n",
    "    data['full'] = stiffmat_rearranged\n",
    "    data['orig'] = MF\n",
    "    data['comp'] = MC\n",
    "    data['coup'] = MM\n",
    "    \n",
    "    data['comp_marginal'] = MC - MM @ np.linalg.inc(MF) @ MM.T\n",
    "    \n",
    "    "
   ]
  },
  {
   "cell_type": "code",
   "execution_count": 6,
   "metadata": {},
   "outputs": [],
   "source": [
    "def transformed_coordinates_stiffmat(groundstate,stiffmat,midstep_locs):\n",
    "    # find composite transformation\n",
    "    transform, replaced_ids = midstep_composition_transformation(\n",
    "        groundstate,\n",
    "        midstep_locs\n",
    "    )\n",
    "    \n",
    "    # transform stiffness matrix\n",
    "    inv_transform = np.linalg.inv(transform)\n",
    "    stiffmat_transformed = inv_transform.T @ stiffmat @ inv_transform\n",
    "    \n",
    "    # rearrange stiffness matrix\n",
    "    full_replaced_ids = list()\n",
    "    for i in range(len(replaced_ids)):\n",
    "        full_replaced_ids += [6*replaced_ids[i]+j for j in range(6)]\n",
    "    \n",
    "    P = send_to_back_permutation(len(stiffmat),full_replaced_ids)\n",
    "    stiffmat_rearranged = P @ stiffmat_transformed @ P.T\n",
    "\n",
    "    # select fluctuating, constraint and coupling part of matrix\n",
    "    N  = len(stiffmat)\n",
    "    NC = len(full_replaced_ids)\n",
    "    NF = N-NC\n",
    "    \n",
    "    MF = stiffmat_rearranged[:NF,:NF]\n",
    "    MC = stiffmat_rearranged[NF:,NF:]\n",
    "    MM = stiffmat_rearranged[NF:,:NF]\n",
    "    \n",
    "    data = {}\n",
    "    data['bare'] = stiffmat\n",
    "    data['full'] = stiffmat_rearranged\n",
    "    data['orig'] = MF\n",
    "    data['comp'] = MC\n",
    "    data['coup'] = MM\n",
    "    \n",
    "    data['comp_marginal'] = MC - MM @ np.linalg.inv(MF) @ MM.T\n",
    "    data['orig_marginal'] = MF - MM.T @ np.linalg.inv(MC) @ MM\n",
    "    data['F_jacob'] = np.log(np.linalg.det(transform))\n",
    "    return data\n",
    "\n",
    "def is_pos_def(x):\n",
    "    return np.all(np.linalg.eigvals(x) > 0)"
   ]
  },
  {
   "cell_type": "markdown",
   "metadata": {},
   "source": [
    "### Define Midstep Triad indices and static triads"
   ]
  },
  {
   "cell_type": "code",
   "execution_count": 7,
   "metadata": {},
   "outputs": [],
   "source": [
    "triadfn = 'methods/State/Nucleosome.state'\n",
    "nuctriads = read_nucleosome_triads(triadfn)\n",
    "\n",
    "midstep_constraint_locations = [\n",
    "    2, 6, 14, 17, 24, 29, \n",
    "    34, 38, 45, 49, 55, 59, \n",
    "    65, 69, 76, 80, 86, 90, \n",
    "    96, 100, 107, 111, 116, 121, \n",
    "    128, 131, 139, 143\n",
    "]\n",
    "\n",
    "# active_bonds = np.ones(len(midstep_constraint_locations),dtype=bool)\n",
    "# # active_bonds[0] = False\n",
    "# # active_bonds[1] = False\n",
    "# # active_bonds[2] = False\n",
    "# # active_bonds[3] = False\n",
    "# # active_bonds[4] = False\n",
    "# # active_bonds[5] = False\n",
    "\n",
    "# midstep_locs = np.array(midstep_constraint_locations)[active_bonds]\n",
    "# print(midstep_locs)"
   ]
  },
  {
   "cell_type": "markdown",
   "metadata": {},
   "source": [
    "### Generate Stiffness and Ground state"
   ]
  },
  {
   "cell_type": "code",
   "execution_count": 8,
   "metadata": {},
   "outputs": [],
   "source": [
    "try:\n",
    "    _gns = genstiff\n",
    "except NameError:\n",
    "    genstiff = GenStiffness(method='MD')\n",
    "\n",
    "# seq = ''.join(['ATCG'[np.random.randint(4)] for i in range(147)])\n",
    "seq601 = \"ATCGAGAATCCCGGTGCCGAGGCCGCTCAATTGGTCGTAGACAGCTCTAGCACCGCTTAAACGCACGTACGCGCTGTCCCCCGCGTTTTAACCGCCAAGGGGATTACTCCCTAGTCTCCAGGCACGTGTCAGATATATACATCCGAT\"\n",
    "# randseq = 'TTCCACATGGATAATACAAGAGATTCATCGACGTGCTCATTTGGCATTAGGGCATCATCCTAATGAGATTCGGTGGCGCTAACAACTTCGCTGAAAGATCAGTGGAGCGAACTGCCCTACTGTTAATTGGGTACCAGACCTCCTCACATCGTTGGTAGCTCCGTTCCTCGCGGACCGCAAGGGCAAACGTCTTACGCGACATCTGTGAATCATAACTCAGTACTTTAAAGCTAGGGCGTATTATGCA'\n",
    "\n",
    "# seq = seq601\n",
    "DNA_stiff,DNA_gs = genstiff.gen_params(seq)\n",
    "DNA_data = transformed_coordinates_stiffmat(DNA_gs,DNA_stiff,midstep_locs)"
   ]
  },
  {
   "cell_type": "markdown",
   "metadata": {},
   "source": [
    "### Load MD Params"
   ]
  },
  {
   "cell_type": "code",
   "execution_count": 9,
   "metadata": {},
   "outputs": [],
   "source": [
    "midstep_stiff_fn = 'MDParams/nuc_stiff.npy'\n",
    "midstep_gs_fn    = 'MDParams/nuc_gs.npy'\n",
    "\n",
    "nuc_midstep_stiff = np.load(midstep_stiff_fn)\n",
    "nuc_midstep_gs    = np.load(midstep_gs_fn)"
   ]
  },
  {
   "cell_type": "markdown",
   "metadata": {},
   "source": [
    "### Truncate $M_\\chi$ and $C_\\chi$"
   ]
  },
  {
   "cell_type": "code",
   "execution_count": 10,
   "metadata": {},
   "outputs": [
    {
     "ename": "NameError",
     "evalue": "name 'active_bonds' is not defined",
     "output_type": "error",
     "traceback": [
      "\u001b[0;31m---------------------------------------------------------------------------\u001b[0m",
      "\u001b[0;31mNameError\u001b[0m                                 Traceback (most recent call last)",
      "\u001b[0;32m/tmp/ipykernel_369862/3578471712.py\u001b[0m in \u001b[0;36m<module>\u001b[0;34m\u001b[0m\n\u001b[1;32m      1\u001b[0m \u001b[0mfull_active\u001b[0m \u001b[0;34m=\u001b[0m \u001b[0mnp\u001b[0m\u001b[0;34m.\u001b[0m\u001b[0mones\u001b[0m\u001b[0;34m(\u001b[0m\u001b[0mlen\u001b[0m\u001b[0;34m(\u001b[0m\u001b[0mnuc_midstep_gs\u001b[0m\u001b[0;34m)\u001b[0m\u001b[0;34m,\u001b[0m\u001b[0mdtype\u001b[0m\u001b[0;34m=\u001b[0m\u001b[0mbool\u001b[0m\u001b[0;34m)\u001b[0m\u001b[0;34m\u001b[0m\u001b[0;34m\u001b[0m\u001b[0m\n\u001b[0;32m----> 2\u001b[0;31m \u001b[0;32mfor\u001b[0m \u001b[0mi\u001b[0m\u001b[0;34m,\u001b[0m\u001b[0mact\u001b[0m \u001b[0;32min\u001b[0m \u001b[0menumerate\u001b[0m\u001b[0;34m(\u001b[0m\u001b[0mactive_bonds\u001b[0m\u001b[0;34m)\u001b[0m\u001b[0;34m:\u001b[0m\u001b[0;34m\u001b[0m\u001b[0;34m\u001b[0m\u001b[0m\n\u001b[0m\u001b[1;32m      3\u001b[0m     \u001b[0mfull_active\u001b[0m\u001b[0;34m[\u001b[0m\u001b[0mi\u001b[0m\u001b[0;34m*\u001b[0m\u001b[0;36m6\u001b[0m\u001b[0;34m:\u001b[0m\u001b[0;34m(\u001b[0m\u001b[0mi\u001b[0m\u001b[0;34m+\u001b[0m\u001b[0;36m1\u001b[0m\u001b[0;34m)\u001b[0m\u001b[0;34m*\u001b[0m\u001b[0;36m6\u001b[0m\u001b[0;34m]\u001b[0m \u001b[0;34m=\u001b[0m \u001b[0mact\u001b[0m\u001b[0;34m\u001b[0m\u001b[0;34m\u001b[0m\u001b[0m\n\u001b[1;32m      4\u001b[0m \u001b[0;34m\u001b[0m\u001b[0m\n\u001b[1;32m      5\u001b[0m \u001b[0mM_Chi\u001b[0m \u001b[0;34m=\u001b[0m \u001b[0mnuc_midstep_stiff\u001b[0m\u001b[0;34m[\u001b[0m\u001b[0;34m:\u001b[0m\u001b[0;34m,\u001b[0m\u001b[0mfull_active\u001b[0m\u001b[0;34m]\u001b[0m\u001b[0;34m\u001b[0m\u001b[0;34m\u001b[0m\u001b[0m\n",
      "\u001b[0;31mNameError\u001b[0m: name 'active_bonds' is not defined"
     ]
    }
   ],
   "source": [
    "full_active = np.ones(len(nuc_midstep_gs),dtype=bool)\n",
    "for i,act in enumerate(active_bonds):\n",
    "    full_active[i*6:(i+1)*6] = act\n",
    "\n",
    "M_Chi = nuc_midstep_stiff[:,full_active]\n",
    "M_Chi = M_Chi[full_active]\n",
    "C_Chi = nuc_midstep_gs[full_active]\n",
    "\n",
    "print(M_Chi.shape)\n",
    "print(C_Chi.shape)\n",
    "print(is_pos_def(M_Chi))"
   ]
  },
  {
   "cell_type": "markdown",
   "metadata": {},
   "source": [
    "### Calculate DNA groundstate between midstep triads"
   ]
  },
  {
   "cell_type": "code",
   "execution_count": null,
   "metadata": {},
   "outputs": [],
   "source": [
    "def midstep_groundstate(gs,midstep_locs):\n",
    "    num = len(midstep_locs)-1\n",
    "    mid_gs = np.zeros((num,6))\n",
    "    for i in range(num):\n",
    "        id1 = midstep_locs[i]\n",
    "        id2 = midstep_locs[i+1]\n",
    "        partial_gs = gs[id1:id2+1] \n",
    "        \n",
    "        Smats = midstep_se3_groundstate(partial_gs)\n",
    "        s_ij = np.eye(4)\n",
    "        for Smat in Smats:\n",
    "            s_ij = s_ij @ Smat\n",
    "        mid_gs[i] = so3.se3_rotmat2euler(s_ij)\n",
    "    return mid_gs\n",
    "\n",
    "midstep_gs = midstep_groundstate(DNA_gs,midstep_locs)"
   ]
  },
  {
   "cell_type": "markdown",
   "metadata": {},
   "source": [
    "### Check Sign of $C_\\chi$"
   ]
  },
  {
   "cell_type": "code",
   "execution_count": null,
   "metadata": {},
   "outputs": [],
   "source": [
    "num_flips = 0\n",
    "for i in range(len(midstep_gs)):\n",
    "    if np.abs(C_Chi[i*6+2] - midstep_gs[i,2]) - np.abs(-C_Chi[i*6+2] - midstep_gs[i,2]) > 1:\n",
    "        print(f'flip {i}')\n",
    "        num_flips += 1\n",
    "        C_Chi[i*6:(i+1)*6] = -C_Chi[i*6:(i+1)*6]\n",
    "print(f'{num_flips} entries flipped')"
   ]
  },
  {
   "cell_type": "markdown",
   "metadata": {},
   "source": [
    "### Convert constraint energy to $\\Psi$ coordinates"
   ]
  },
  {
   "cell_type": "code",
   "execution_count": null,
   "metadata": {},
   "outputs": [],
   "source": [
    "from methods.PolyCG.polycg.Transforms.transform_algebra2group import algebra2group_lintrans, group2algebra_lintrans\n",
    "H = algebra2group_lintrans(midstep_gs,translation_as_midstep=False)\n",
    "Hinv = group2algebra_lintrans(midstep_gs)\n",
    "\n",
    "Psi_0 = midstep_gs.flatten()\n",
    "C_Psi = H @ (C_Chi - Psi_0)\n",
    "M_Psi_C = Hinv.T @ M_Chi @ Hinv\n",
    "\n",
    "M_Psi_C = M_Psi_C\n",
    "\n",
    "print(is_pos_def(M_Psi_C))"
   ]
  },
  {
   "cell_type": "markdown",
   "metadata": {},
   "source": [
    "### Calculate $M_{\\Psi}^{(D)}$ and $\\bar{\\mathbf{D}}_\\Psi$"
   ]
  },
  {
   "cell_type": "code",
   "execution_count": null,
   "metadata": {},
   "outputs": [],
   "source": [
    "M_Psi_m = DNA_data['comp_marginal']\n",
    "\n",
    "M_Psi_D = M_Psi_C - M_Psi_m\n",
    "M_Psi_tot = M_Psi_m + M_Psi_D\n",
    "D_Psi = np.linalg.inv(M_Psi_D).T @ M_Psi_tot @ C_Psi\n",
    "\n",
    "print(is_pos_def(M_Psi_m))\n",
    "print(is_pos_def(M_Psi_D))\n",
    "print(is_pos_def(M_Psi_tot))\n",
    "\n",
    "# set off-diagonal elements to zero\n",
    "nn = len(D_Psi)//6\n",
    "for i in range(len(D_Psi)//6):\n",
    "    for j in range(len(D_Psi)//6):\n",
    "        if i!=j:\n",
    "            M_Psi_D[i*6:(i+1)*6,j*6:(j+1)*6] = 0\n",
    "        \n",
    "print(is_pos_def(M_Psi_D))\n",
    "\n",
    "M_Psi_tot = M_Psi_m + M_Psi_D\n",
    "D_Psi = np.linalg.inv(M_Psi_D).T @ M_Psi_tot @ C_Psi\n",
    "\n",
    "print(is_pos_def(M_Psi_m))\n",
    "print(is_pos_def(M_Psi_D))\n",
    "print(is_pos_def(M_Psi_tot))\n",
    "\n"
   ]
  },
  {
   "cell_type": "code",
   "execution_count": null,
   "metadata": {},
   "outputs": [],
   "source": [
    "import matplotlib.cm as cm\n",
    "import matplotlib.pyplot as plt\n",
    "stiff = M_Psi_D\n",
    "dims = 6\n",
    "\n",
    "fig = plt.figure(figsize=(17./2.54,17.2/2.54))\n",
    "ax1 = fig.add_subplot(111)\n",
    "# Bilinear interpolation - this will look blurry\n",
    "ax1.imshow(stiff, interpolation='none', cmap='viridis')\n",
    "i\n",
    "# plot blocks\n",
    "for l in range(1,len(stiff)//dims+1):\n",
    "    ax1.plot([l*dims-0.6,l*dims-0.6],[0-0.5,len(stiff)-0.5],color='black',lw=0.5)\n",
    "    ax1.plot([0-0.5,len(stiff)-0.5],[l*dims-0.4,l*dims-0.4],color='black',lw=0.5)\n",
    "\n",
    "    ax1.plot([l*dims-0.6,l*dims-0.6],[(l-1)*dims-0.5,l*dims-0.5],color='red',lw=0.5)\n",
    "    ax1.plot([(l-1)*dims-0.6,(l-1)*dims-0.6],[(l-1)*dims-0.5,l*dims-0.5],color='red',lw=0.5)\n",
    "    ax1.plot([(l-1)*dims-0.5,l*dims-0.5],[l*dims-0.4,l*dims-0.4],color='red',lw=0.5)\n",
    "    ax1.plot([(l-1)*dims-0.5,l*dims-0.5],[(l-1)*dims-0.4,(l-1)*dims-0.4],color='red',lw=0.5)\n",
    "    \n",
    "    \n",
    "ax1.set_xlim((-0.5,len(stiff)-.5))\n",
    "ax1.set_ylim((-0.5,len(stiff)-.5))\n",
    "\n",
    "# ax1.set_xlim((-0.5,12-.5))\n",
    "# ax1.set_ylim((-0.5,12-.5))\n",
    "\n",
    "plt.show()"
   ]
  },
  {
   "cell_type": "markdown",
   "metadata": {},
   "source": [
    "### Calculate Constant contribution\n",
    "\n",
    "$\\beta E_\\mathrm{const} = \\frac{1}{2} \\left.\\bar{\\mathbf{D}}_\\Psi\\right.^\\intercal \\left( M_\\Psi^{(D)} - M_\\Psi^{(D)} \\left.M_\\Psi^{(tot)}\\right.^{-1} \\left.M_\\Psi^{(D)}\\right.^\\intercal \\right) \\bar{\\mathbf{D}}_\\Psi$"
   ]
  },
  {
   "cell_type": "code",
   "execution_count": null,
   "metadata": {},
   "outputs": [],
   "source": [
    "M_D_renorm = M_Psi_D - M_Psi_D @ np.linalg.inv(M_Psi_tot) @ M_Psi_D.T\n",
    "E_const = 0.5*D_Psi.T @ M_D_renorm @ D_Psi\n",
    "print(E_const)"
   ]
  },
  {
   "cell_type": "markdown",
   "metadata": {},
   "source": [
    "### Extend the full system"
   ]
  },
  {
   "cell_type": "code",
   "execution_count": null,
   "metadata": {},
   "outputs": [],
   "source": [
    "M_all = DNA_data['full']\n",
    "M_D = np.zeros(M_all.shape)\n",
    "D   = np.zeros(len(M_all))\n",
    "\n",
    "nd = len(D_Psi)\n",
    "M_D[-nd:,-nd:] = M_Psi_D\n",
    "D[-nd:] = D_Psi\n",
    "\n",
    "M_tot = M_all + M_D\n",
    "alpha = np.linalg.inv(M_tot) @ M_D.T @ D\n",
    "\n",
    "print(is_pos_def(M_tot))\n",
    "print(is_pos_def(M_Psi_D))\n",
    "print(is_pos_def(M_Psi_C))\n",
    "\n",
    "#### Calculate energies\n",
    "\n",
    "M_D_renorm = M_D - M_D @ np.linalg.inv(M_tot) @ M_D.T\n",
    "E_const = 0.5 * D.T @ M_D_renorm @ D\n",
    "\n",
    "\n",
    "# entropy term\n",
    "n = len(M_tot)\n",
    "logdet_sign, logdet = np.linalg.slogdet(M_tot)\n",
    "F_pi = -0.5*n * np.log(2*np.pi)\n",
    "# matrix term\n",
    "F_mat = 0.5*logdet\n",
    "F_entro = F_pi + F_mat\n",
    "\n",
    "F_jacob = DNA_data['F_jacob']\n",
    "\n",
    "\n",
    "F_total = E_const + F_entro + F_jacob\n",
    "\n",
    "print(f'E_const = {E_const}')\n",
    "print(f'F_entro = {F_entro}')\n",
    "print(f'F_jacob = {F_jacob}')\n",
    "print(f'F_fluc = {F_entro+F_jacob}')\n",
    "print(f'F_total = {F_total}')\n",
    "\n"
   ]
  },
  {
   "cell_type": "code",
   "execution_count": null,
   "metadata": {},
   "outputs": [],
   "source": [
    "active_bonds = np.ones(len(midstep_constraint_locations),dtype=bool)\n",
    "# active_bonds[0] = False\n",
    "# active_bonds[1] = False\n",
    "# active_bonds[2] = False\n",
    "# active_bonds[3] = False\n",
    "# active_bonds[4] = False\n",
    "# active_bonds[5] = False\n",
    "# active_bonds[6] = False\n",
    "# active_bonds[7] = False\n",
    "# active_bonds[8] = False\n",
    "# active_bonds[9] = False\n",
    "# active_bonds[10] = False\n",
    "# active_bonds[11] = False\n",
    "# active_bonds[12] = False\n",
    "# active_bonds[13] = False\n",
    "# active_bonds[14] = False\n",
    "# active_bonds[15] = False\n",
    "# active_bonds[16] = False\n",
    "# active_bonds[17] = False\n",
    "# active_bonds[18] = False\n",
    "# active_bonds[19] = False\n",
    "# active_bonds[20] = False\n",
    "# active_bonds[21] = False\n",
    "# active_bonds[22] = False\n",
    "# active_bonds[23] = False\n",
    "# active_bonds[24] = False\n",
    "# active_bonds[25] = False\n",
    "\n",
    "print(active_bonds.shape)\n",
    "\n",
    "\n",
    "midstep_locs = np.array(midstep_constraint_locations)[active_bonds]\n",
    "print(midstep_locs)"
   ]
  },
  {
   "cell_type": "code",
   "execution_count": null,
   "metadata": {},
   "outputs": [],
   "source": []
  }
 ],
 "metadata": {
  "kernelspec": {
   "display_name": "Python 3",
   "language": "python",
   "name": "python3"
  },
  "language_info": {
   "codemirror_mode": {
    "name": "ipython",
    "version": 3
   },
   "file_extension": ".py",
   "mimetype": "text/x-python",
   "name": "python",
   "nbconvert_exporter": "python",
   "pygments_lexer": "ipython3",
   "version": "3.10.12"
  }
 },
 "nbformat": 4,
 "nbformat_minor": 2
}
